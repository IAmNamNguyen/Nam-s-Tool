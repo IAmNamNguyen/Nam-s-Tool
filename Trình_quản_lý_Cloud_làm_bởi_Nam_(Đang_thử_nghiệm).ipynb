{
  "nbformat": 4,
  "nbformat_minor": 0,
  "metadata": {
    "colab": {
      "provenance": [],
      "mount_file_id": "1hKit6rFfZLL8a-H2y_xxy6tqz2IZFwcD",
      "authorship_tag": "ABX9TyPTezIZ5BvqepUZ85ZJVG48",
      "include_colab_link": true
    },
    "kernelspec": {
      "name": "python3",
      "display_name": "Python 3"
    },
    "language_info": {
      "name": "python"
    }
  },
  "cells": [
    {
      "cell_type": "markdown",
      "metadata": {
        "id": "view-in-github",
        "colab_type": "text"
      },
      "source": [
        "<a href=\"https://colab.research.google.com/github/IAmNamNguyen/Nam-s-Tool/blob/main/Tr%C3%ACnh_qu%E1%BA%A3n_l%C3%BD_Cloud_l%C3%A0m_b%E1%BB%9Fi_Nam_(%C4%90ang_th%E1%BB%AD_nghi%E1%BB%87m).ipynb\" target=\"_parent\"><img src=\"https://colab.research.google.com/assets/colab-badge.svg\" alt=\"Open In Colab\"/></a>"
      ]
    },
    {
      "cell_type": "markdown",
      "source": [
        "#Sử dụng sức mạnh xử lý của Colab để quản lý và thao tác với những bộ nhớ đám mây của bạn."
      ],
      "metadata": {
        "id": "GsICJw_2y-dl"
      }
    },
    {
      "cell_type": "markdown",
      "source": [
        "#Hãy nhớ tạo bản sao vào Drive của bạn để có thể sử dụng nhá."
      ],
      "metadata": {
        "id": "IdW8iFAZz-iH"
      }
    },
    {
      "cell_type": "code",
      "execution_count": null,
      "metadata": {
        "id": "bwY76UI3pCen"
      },
      "outputs": [],
      "source": [
        "#@title **Cài đặt trình nén/ giải nén tệp tin**\n",
        "!apt install rar"
      ]
    },
    {
      "cell_type": "code",
      "source": [
        "#@title **Cài đặt rClone**\n",
        "!curl https://rclone.org/install.sh | sudo bash"
      ],
      "metadata": {
        "id": "GYXxf5kUr6s9"
      },
      "execution_count": null,
      "outputs": []
    },
    {
      "cell_type": "code",
      "source": [
        "#@title **Cài đặt FUSE (Hiện tại chưa cần thiết)**\n",
        "!sudo apt install fuse3"
      ],
      "metadata": {
        "id": "xkwf9tksyAU2"
      },
      "execution_count": null,
      "outputs": []
    },
    {
      "cell_type": "code",
      "source": [
        "#@title **Nhập config từ drive vào rclone**\n",
        "#@markdown **Lưu ý: Hãy gán Google Drive vào Colab trước và đảm bảo là rClone đã được cài đặt trên Colab (bên trên)**\n",
        "!cp /content/drive/MyDrive/rclone.conf /root/.config/rclone/rclone.conf"
      ],
      "metadata": {
        "id": "bpz05vsFuRzi",
        "colab": {
          "base_uri": "https://localhost:8080/"
        },
        "outputId": "2cbf4e5d-0e0c-4336-f365-642b7caee616"
      },
      "execution_count": 2,
      "outputs": [
        {
          "output_type": "stream",
          "name": "stdout",
          "text": [
            "cp: cannot create regular file '/root/.config/rclone/rclone.conf': No such file or directory\n"
          ]
        }
      ]
    },
    {
      "cell_type": "code",
      "source": [
        "#@title **Ánh xạ cloud vào Colab (Đang ko dùng được)**\n",
        "dir = \"OneDrive\" #@param {type:\"string\"}\n",
        "!mkdir  /content/sample_data/{dir}\n",
        "!rclone --vfs-cache-mode writes mount {dir}: ~/{dir}"
      ],
      "metadata": {
        "colab": {
          "base_uri": "https://localhost:8080/"
        },
        "id": "-EJliI02p1TR",
        "outputId": "82f06a54-49c7-4c88-e8de-8161b3eac3d4"
      },
      "execution_count": null,
      "outputs": [
        {
          "output_type": "stream",
          "name": "stdout",
          "text": [
            "mkdir: cannot create directory ‘/content/sample_data/OneDrive’: File exists\n"
          ]
        }
      ]
    },
    {
      "cell_type": "code",
      "source": [
        "#@title **Nén file**\n",
        "#@markdown Nhập thông tin cần thiết:\n",
        "vi_tri_file_can_nen = \"\" #@param {type:\"string\"}\n",
        "ten_file_can_nen = \"\" #@param {type:\"string\"}\n",
        "ten_file_nen = \"\" #@param {type:\"string\"}\n",
        "\n",
        "!cd vi_tri_file_can_nen\n",
        "\n",
        "co_password = False #@param {type:\"boolean\"}\n",
        "if co_password:\n",
        "#  password = input(\"Nhập mật khẩu: \")\n",
        "  !rar -p {ten_file_nen} {ten_file_can_nen}\n",
        "\n",
        "!rar {ten_file_nen} {ten_file_can_nen}"
      ],
      "metadata": {
        "id": "d1Xu1egeui0Q"
      },
      "execution_count": null,
      "outputs": []
    },
    {
      "cell_type": "code",
      "source": [
        "#@title **Giải nén file**\n",
        "#@markdown Nhập thông tin cần thiết:\n",
        "vi_tri_file_can_giai_nen = \"\" #@param {type:\"string\"}\n",
        "ten_file_can_giai_nen = \"\" #@param {type:\"string\"}\n",
        "\n",
        "!cd vi_tri_file_can_giai_nen\n",
        "\n",
        "co_password = False #@param {type:\"boolean\"}\n",
        "if co_password:\n",
        "  password = input(\"Nhập mật khẩu giải nén: \")\n",
        "  !unrar x -p{password} {ten_file_can_giai_nen}\n",
        "\n",
        "!unrar x {ten_file_can_giai_nen}"
      ],
      "metadata": {
        "id": "OGnJAZBEudeV"
      },
      "execution_count": null,
      "outputs": []
    },
    {
      "cell_type": "code",
      "source": [
        "#@title **Copy file giữa các cloud**\n",
        "\n",
        "vi_tri_cu_the_file_can_copy = \"\" #@param {type:\"string\"}\n",
        "dich_den_cua_file_can_copy = \"\" #@param {type:\"string\"}\n",
        "\n",
        "!rclone copy --update {vi_tri_cu_the_file_can_copy} {dich_den_cua_file_can_copy}"
      ],
      "metadata": {
        "id": "G9LvuDUPjzFa"
      },
      "execution_count": null,
      "outputs": []
    },
    {
      "cell_type": "code",
      "source": [
        "#@title **Download direct link file trực tiếp về Google Drive (Thử nghiệm)**\n",
        "\n",
        "import requests\n",
        "file_url = \"https://sto159.akamai-video-content.com/tysxettydw7oj6cdabzsrfqfot4f3j7s3jmpf23cfxuqgwjpjvzeev2howpa/ure-096-ub.mp4\" #@param {type:\"string\"}\n",
        "file_name = \"ure-096-ub.mp4\" #@param {type:\"string\"}\n",
        "download_dir = f\"/content/drive/MyDrive/{file_name}\"\n",
        "r = requests.get(file_url, stream = True)\n",
        "with open(download_dir,\"wb\") as file:\n",
        "  for block in r.iter_content(chunk_size = 1024):\n",
        "    if block:\n",
        "      file.write(block)"
      ],
      "metadata": {
        "id": "ZHhjbrhPqtju"
      },
      "execution_count": null,
      "outputs": []
    }
  ]
}